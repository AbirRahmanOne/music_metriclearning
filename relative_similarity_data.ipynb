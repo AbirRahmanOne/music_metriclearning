{
  "cells": [
    {
      "cell_type": "code",
      "source": [
        "import networkx as nx\n",
        "import pandas as pd\n",
        "import numpy as np\n",
        "%matplotlib inline"
      ],
      "outputs": [],
      "execution_count": 1,
      "metadata": {}
    },
    {
      "cell_type": "markdown",
      "source": [
        "# Load csv data into pandas dataframe"
      ],
      "metadata": {}
    },
    {
      "cell_type": "code",
      "source": [
        "csv_path = '/Users/Alexander/Desktop/MagnaTagATune metriclearning/MagnaTagATune/comparisons_final.csv'\n",
        "df = pd.read_csv(csv_path, '\\t')\n",
        "df"
      ],
      "outputs": [
        {
          "output_type": "execute_result",
          "execution_count": 3,
          "data": {
            "text/plain": [
              "     clip1_id  clip2_id  clip3_id  clip1_numvotes  clip2_numvotes  \\\n",
              "0       42344     52148     53079               3               1   \n",
              "1       44925     17654     56325               2               0   \n",
              "2       25699      2619     15184               0               0   \n",
              "3        2308     57629     44657               0               0   \n",
              "4       45324      3858     13497              15              14   \n",
              "..        ...       ...       ...             ...             ...   \n",
              "528     50394     35897      8457               1               0   \n",
              "529     12088      8446     34711               3               1   \n",
              "530     55772     20576     26478               5               4   \n",
              "531     27594     40264     26134               0               1   \n",
              "532     48898      6776      8678              42              14   \n",
              "\n",
              "     clip3_numvotes                                     clip1_mp3_path  \\\n",
              "0                 6  8/jacob_heringman-josquin_des_prez_lute_settin...   \n",
              "1                 0  0/american_bach_soloists-j_s__bach__cantatas_v...   \n",
              "2                 2  b/philharmonia_baroque-beethoven_symphonies_no...   \n",
              "3                 2  0/american_bach_soloists-joseph_haydn__masses-...   \n",
              "4                 6  5/burnshee_thornside-rock_this_moon-11-city_gi...   \n",
              "..              ...                                                ...   \n",
              "528               0  e/joram-moments_of_clarity-13-plenilune-262-29...   \n",
              "529               1  1/dac_crowell-sferica-03-chapel_hill_phantom_l...   \n",
              "530               0  3/jag-four_strings-19-helena_street_corner_blu...   \n",
              "531               1  f/paul_berget-sl_weiss_on_11_strings-06-linfid...   \n",
              "532              23  e/seth_carlin-mozart_in_the_age_of_enlightenme...   \n",
              "\n",
              "                                        clip2_mp3_path  \\\n",
              "0    4/tim_rayborn-the_path_beyond-14-taqsim_ud-175...   \n",
              "1    8/hybris-the_first_words-04-final_trust-146-17...   \n",
              "2    4/jay_kishor-the_color_of_night-01-malkauns-10...   \n",
              "3    c/magnatune-classical-24-la_primavera_robert_j...   \n",
              "4    9/sitar-cd1_the_sowebo_concert-01-raga_maru_bi...   \n",
              "..                                                 ...   \n",
              "528  6/farallon_recorder_quartet-ludwig_senfl-08-in...   \n",
              "529  8/mercy_machine-mercy_machine-02-my_fathers_ha...   \n",
              "530  1/spinecar-passive_aggressive-04-true-262-291.mp3   \n",
              "531  2/duo_chambure-vihuela_duets_of_valderrabano-0...   \n",
              "532  d/paul_avgerinos-maya__the_great_katun-02-dawn...   \n",
              "\n",
              "                                        clip3_mp3_path  \n",
              "0       9/the_wretch-ambulatory-15-release-146-175.mp3  \n",
              "1     9/the_strap_ons-geeking_crime-20-pimps-59-88.mp3  \n",
              "2    4/seth_carlin-schubert__works_for_solo_fortepi...  \n",
              "3    f/ehren_starks-lines_build_walls-10-tunnel_sys...  \n",
              "4    6/electric_frankenstein-conquers_the_world-03-...  \n",
              "..                                                 ...  \n",
              "528  6/mercy_machine-in_your_bed-02-my_joan_of_arc-...  \n",
              "529  c/liquid_zen-oscilloscope-08-autumn_glide-59-8...  \n",
              "530  f/strojovna_07-switch_on__switch_off-06-crysta...  \n",
              "531             1/artemis-undone-06-beside_u-59-88.mp3  \n",
              "532  0/beth_quist-silver-02-om_asatoma_sad_gamaya-1...  \n",
              "\n",
              "[533 rows x 9 columns]"
            ],
            "text/html": [
              "<div>\n",
              "<style scoped>\n",
              "    .dataframe tbody tr th:only-of-type {\n",
              "        vertical-align: middle;\n",
              "    }\n",
              "\n",
              "    .dataframe tbody tr th {\n",
              "        vertical-align: top;\n",
              "    }\n",
              "\n",
              "    .dataframe thead th {\n",
              "        text-align: right;\n",
              "    }\n",
              "</style>\n",
              "<table border=\"1\" class=\"dataframe\">\n",
              "  <thead>\n",
              "    <tr style=\"text-align: right;\">\n",
              "      <th></th>\n",
              "      <th>clip1_id</th>\n",
              "      <th>clip2_id</th>\n",
              "      <th>clip3_id</th>\n",
              "      <th>clip1_numvotes</th>\n",
              "      <th>clip2_numvotes</th>\n",
              "      <th>clip3_numvotes</th>\n",
              "      <th>clip1_mp3_path</th>\n",
              "      <th>clip2_mp3_path</th>\n",
              "      <th>clip3_mp3_path</th>\n",
              "    </tr>\n",
              "  </thead>\n",
              "  <tbody>\n",
              "    <tr>\n",
              "      <td>0</td>\n",
              "      <td>42344</td>\n",
              "      <td>52148</td>\n",
              "      <td>53079</td>\n",
              "      <td>3</td>\n",
              "      <td>1</td>\n",
              "      <td>6</td>\n",
              "      <td>8/jacob_heringman-josquin_des_prez_lute_settin...</td>\n",
              "      <td>4/tim_rayborn-the_path_beyond-14-taqsim_ud-175...</td>\n",
              "      <td>9/the_wretch-ambulatory-15-release-146-175.mp3</td>\n",
              "    </tr>\n",
              "    <tr>\n",
              "      <td>1</td>\n",
              "      <td>44925</td>\n",
              "      <td>17654</td>\n",
              "      <td>56325</td>\n",
              "      <td>2</td>\n",
              "      <td>0</td>\n",
              "      <td>0</td>\n",
              "      <td>0/american_bach_soloists-j_s__bach__cantatas_v...</td>\n",
              "      <td>8/hybris-the_first_words-04-final_trust-146-17...</td>\n",
              "      <td>9/the_strap_ons-geeking_crime-20-pimps-59-88.mp3</td>\n",
              "    </tr>\n",
              "    <tr>\n",
              "      <td>2</td>\n",
              "      <td>25699</td>\n",
              "      <td>2619</td>\n",
              "      <td>15184</td>\n",
              "      <td>0</td>\n",
              "      <td>0</td>\n",
              "      <td>2</td>\n",
              "      <td>b/philharmonia_baroque-beethoven_symphonies_no...</td>\n",
              "      <td>4/jay_kishor-the_color_of_night-01-malkauns-10...</td>\n",
              "      <td>4/seth_carlin-schubert__works_for_solo_fortepi...</td>\n",
              "    </tr>\n",
              "    <tr>\n",
              "      <td>3</td>\n",
              "      <td>2308</td>\n",
              "      <td>57629</td>\n",
              "      <td>44657</td>\n",
              "      <td>0</td>\n",
              "      <td>0</td>\n",
              "      <td>2</td>\n",
              "      <td>0/american_bach_soloists-joseph_haydn__masses-...</td>\n",
              "      <td>c/magnatune-classical-24-la_primavera_robert_j...</td>\n",
              "      <td>f/ehren_starks-lines_build_walls-10-tunnel_sys...</td>\n",
              "    </tr>\n",
              "    <tr>\n",
              "      <td>4</td>\n",
              "      <td>45324</td>\n",
              "      <td>3858</td>\n",
              "      <td>13497</td>\n",
              "      <td>15</td>\n",
              "      <td>14</td>\n",
              "      <td>6</td>\n",
              "      <td>5/burnshee_thornside-rock_this_moon-11-city_gi...</td>\n",
              "      <td>9/sitar-cd1_the_sowebo_concert-01-raga_maru_bi...</td>\n",
              "      <td>6/electric_frankenstein-conquers_the_world-03-...</td>\n",
              "    </tr>\n",
              "    <tr>\n",
              "      <td>...</td>\n",
              "      <td>...</td>\n",
              "      <td>...</td>\n",
              "      <td>...</td>\n",
              "      <td>...</td>\n",
              "      <td>...</td>\n",
              "      <td>...</td>\n",
              "      <td>...</td>\n",
              "      <td>...</td>\n",
              "      <td>...</td>\n",
              "    </tr>\n",
              "    <tr>\n",
              "      <td>528</td>\n",
              "      <td>50394</td>\n",
              "      <td>35897</td>\n",
              "      <td>8457</td>\n",
              "      <td>1</td>\n",
              "      <td>0</td>\n",
              "      <td>0</td>\n",
              "      <td>e/joram-moments_of_clarity-13-plenilune-262-29...</td>\n",
              "      <td>6/farallon_recorder_quartet-ludwig_senfl-08-in...</td>\n",
              "      <td>6/mercy_machine-in_your_bed-02-my_joan_of_arc-...</td>\n",
              "    </tr>\n",
              "    <tr>\n",
              "      <td>529</td>\n",
              "      <td>12088</td>\n",
              "      <td>8446</td>\n",
              "      <td>34711</td>\n",
              "      <td>3</td>\n",
              "      <td>1</td>\n",
              "      <td>1</td>\n",
              "      <td>1/dac_crowell-sferica-03-chapel_hill_phantom_l...</td>\n",
              "      <td>8/mercy_machine-mercy_machine-02-my_fathers_ha...</td>\n",
              "      <td>c/liquid_zen-oscilloscope-08-autumn_glide-59-8...</td>\n",
              "    </tr>\n",
              "    <tr>\n",
              "      <td>530</td>\n",
              "      <td>55772</td>\n",
              "      <td>20576</td>\n",
              "      <td>26478</td>\n",
              "      <td>5</td>\n",
              "      <td>4</td>\n",
              "      <td>0</td>\n",
              "      <td>3/jag-four_strings-19-helena_street_corner_blu...</td>\n",
              "      <td>1/spinecar-passive_aggressive-04-true-262-291.mp3</td>\n",
              "      <td>f/strojovna_07-switch_on__switch_off-06-crysta...</td>\n",
              "    </tr>\n",
              "    <tr>\n",
              "      <td>531</td>\n",
              "      <td>27594</td>\n",
              "      <td>40264</td>\n",
              "      <td>26134</td>\n",
              "      <td>0</td>\n",
              "      <td>1</td>\n",
              "      <td>1</td>\n",
              "      <td>f/paul_berget-sl_weiss_on_11_strings-06-linfid...</td>\n",
              "      <td>2/duo_chambure-vihuela_duets_of_valderrabano-0...</td>\n",
              "      <td>1/artemis-undone-06-beside_u-59-88.mp3</td>\n",
              "    </tr>\n",
              "    <tr>\n",
              "      <td>532</td>\n",
              "      <td>48898</td>\n",
              "      <td>6776</td>\n",
              "      <td>8678</td>\n",
              "      <td>42</td>\n",
              "      <td>14</td>\n",
              "      <td>23</td>\n",
              "      <td>e/seth_carlin-mozart_in_the_age_of_enlightenme...</td>\n",
              "      <td>d/paul_avgerinos-maya__the_great_katun-02-dawn...</td>\n",
              "      <td>0/beth_quist-silver-02-om_asatoma_sad_gamaya-1...</td>\n",
              "    </tr>\n",
              "  </tbody>\n",
              "</table>\n",
              "<p>533 rows × 9 columns</p>\n",
              "</div>"
            ]
          },
          "metadata": {}
        }
      ],
      "execution_count": 3,
      "metadata": {}
    },
    {
      "cell_type": "markdown",
      "source": [
        "# Calculate statistics"
      ],
      "metadata": {}
    },
    {
      "cell_type": "code",
      "source": [
        "print('total number of votes: ', df['clip1_numvotes'].sum() + df['clip2_numvotes'].sum() + df['clip3_numvotes'].sum())\n",
        "print('average number of votes per triplet: ', df[['clip1_numvotes', 'clip2_numvotes', 'clip3_numvotes']].sum(axis=1).mean())\n",
        "print(f'number of unique triplets: ', len({tuple(sorted(ids)) for _, ids in df.iloc[:, :3].iterrows()}))"
      ],
      "outputs": [
        {
          "output_type": "stream",
          "name": "stdout",
          "text": [
            "total number of votes:  7650\n",
            "average number of votes per triplet:  14.352720450281426\n",
            "number of unique triplets:  346\n"
          ]
        }
      ],
      "execution_count": 4,
      "metadata": {}
    },
    {
      "cell_type": "markdown",
      "source": [
        "# Create directed graph from dataframe"
      ],
      "metadata": {}
    },
    {
      "cell_type": "code",
      "source": [
        "def create_graph(df):\n",
        "    graph = nx.DiGraph()\n",
        "\n",
        "    for _, row in df.iterrows():\n",
        "        clip_ids, clip_votes, clip_paths = row[:3].values, row[3:6].values, row[6:].values\n",
        "        idx = range(len(clip_votes))\n",
        "        for i in idx:\n",
        "            votes = clip_votes[i]\n",
        "            if votes > 0:\n",
        "                odd_one_out_id = clip_ids[i]\n",
        "                other_idx = np.setdiff1d(idx, [i])\n",
        "                node1 = tuple(sorted(clip_ids[other_idx]))\n",
        "                node2 = tuple(sorted([clip_ids[other_idx][0], odd_one_out_id]))\n",
        "                node3 = tuple(sorted([clip_ids[other_idx][1], odd_one_out_id]))\n",
        "\n",
        "                # Find existing edge\n",
        "                ed = graph.get_edge_data(node1, node2)\n",
        "                if ed is not None:\n",
        "                    edge_weight = ed['weight']\n",
        "                    graph[node1][node2]['weight'] += votes\n",
        "                else:\n",
        "                    graph.add_edge(node1, node2, weight=votes)\n",
        "\n",
        "                # Find existing edge\n",
        "                ed = graph.get_edge_data(node1, node3)\n",
        "                if ed is not None:\n",
        "                    edge_weight = ed['weight']\n",
        "                    graph[node1][node3]['weight'] += votes\n",
        "                else:\n",
        "                    graph.add_edge(node1, node3, weight=votes)\n",
        "    return graph\n",
        "\n",
        "graph = create_graph(df)"
      ],
      "outputs": [],
      "execution_count": 5,
      "metadata": {}
    },
    {
      "cell_type": "markdown",
      "source": [
        "# Remove length-2 cycles from graph"
      ],
      "metadata": {}
    },
    {
      "cell_type": "code",
      "source": [
        "def remove_inconsistencies(graph):\n",
        "    count = 0\n",
        "    weight_points = 0\n",
        "    for node in graph:\n",
        "        to_remove = []\n",
        "        for (u,v,d) in graph.edges(node, data=True):\n",
        "            if graph.has_edge(v,u):\n",
        "                weight = d['weight']\n",
        "                weight_rev = graph.get_edge_data(v, u)['weight']\n",
        "                \n",
        "                # If contradicting edges have equal votes, remove both\n",
        "                if weight == weight_rev:\n",
        "                    to_remove.append((u, v))\n",
        "                    to_remove.append((v, u))\n",
        "                    count += 2\n",
        "                    weight_points += weight * 2\n",
        "                    \n",
        "                elif weight > weight_rev:\n",
        "                    to_remove.append((v, u))\n",
        "                    graph[u][v]['weight'] = weight - weight_rev\n",
        "                    count += 1\n",
        "                    weight_points += 2* weight_rev\n",
        "                elif weight < weight_rev:\n",
        "                    to_remove.append((v, u))\n",
        "                    graph[v][u]['weight'] = weight_rev - weight\n",
        "                    count += 1\n",
        "                    weight_points += 2 * weight\n",
        "        graph.remove_edges_from(to_remove)\n",
        "                    \n",
        "    print(f'removed {count} inconsistent edges.')\n",
        "    print(f'removed {weight_points} weight points.') \n",
        "\n",
        "remove_inconsistencies(graph)"
      ],
      "outputs": [
        {
          "output_type": "stream",
          "name": "stdout",
          "text": [
            "removed 738 inconsistent edges.\n",
            "removed 8402 weight points.\n"
          ]
        }
      ],
      "execution_count": 6,
      "metadata": {}
    },
    {
      "cell_type": "markdown",
      "source": [
        "# Remove isolated vertices"
      ],
      "metadata": {}
    },
    {
      "cell_type": "code",
      "source": [
        "isolates = list(nx.isolates(graph))\n",
        "graph.remove_nodes_from(isolates)\n",
        "print(f'removed {len(isolates)} isolated nodes')"
      ],
      "outputs": [
        {
          "output_type": "stream",
          "name": "stdout",
          "text": [
            "removed 27 isolated nodes\n"
          ]
        }
      ],
      "execution_count": 7,
      "metadata": {}
    },
    {
      "cell_type": "markdown",
      "source": [
        "# Calculate number of subgraphs & edges in resulting graph"
      ],
      "metadata": {}
    },
    {
      "cell_type": "code",
      "source": [
        "subgraphs = list(nx.weakly_connected_components(graph))\n",
        "sg_sizes = set([len(sg) for sg in subgraphs])\n",
        "referenced_clips = {clip_id for node in graph.nodes() for clip_id in node}\n",
        "print(f'graph consists of {len(subgraphs)} disjoint subgraphs containing {sg_sizes} vertices each')\n",
        "print(f'total graph contains {len(graph.edges)} edges/triplet constraints')\n",
        "print('number of referenced clips: ', len(referenced_clips))"
      ],
      "outputs": [
        {
          "output_type": "stream",
          "name": "stdout",
          "text": [
            "graph consists of 337 disjoint subgraphs containing {3} vertices each\n",
            "total graph contains 860 edges/triplet constraints\n",
            "number of referenced clips:  993\n"
          ]
        }
      ],
      "execution_count": 17,
      "metadata": {}
    },
    {
      "cell_type": "markdown",
      "source": [
        "# Split into 10 disjoint sets of subgraphs, for k-fold CV"
      ],
      "metadata": {}
    },
    {
      "cell_type": "code",
      "source": [
        "array = np.array(subgraphs)\n",
        "np.random.shuffle(array)\n",
        "splits = np.array_split(array, 10)\n",
        "split_nodes = lambda split: [node for sg in split for node in sg]\n",
        "split_edges = lambda split: [edges for node in split_nodes(split) for edges in graph.edges(node)]\n",
        "constraints_per_split = [len(split_edges(split)) for split in splits]\n",
        "print('average number of constraints per split: ', np.array(constraints_per_split).mean())"
      ],
      "outputs": [
        {
          "output_type": "stream",
          "name": "stdout",
          "text": [
            "average number of constraints per split:  86.0\n"
          ]
        }
      ],
      "execution_count": 11,
      "metadata": {}
    },
    {
      "cell_type": "code",
      "source": [
        "from sys import getsizeof\n",
        "getsizeof(array)\n",
        "splits[0]"
      ],
      "outputs": [
        {
          "output_type": "execute_result",
          "execution_count": 15,
          "data": {
            "text/plain": [
              "array([{(8446, 34711), (8446, 12088), (12088, 34711)},\n",
              "       {(6717, 30974), (21752, 30974), (6717, 21752)},\n",
              "       {(26836, 28405), (28405, 44292), (26836, 44292)},\n",
              "       {(25776, 29873), (21993, 25776), (21993, 29873)},\n",
              "       {(37428, 55029), (37428, 49015), (49015, 55029)},\n",
              "       {(5783, 40683), (5783, 50307), (40683, 50307)},\n",
              "       {(26497, 37286), (37286, 39679), (26497, 39679)},\n",
              "       {(6959, 19598), (6959, 53758), (19598, 53758)},\n",
              "       {(39938, 41134), (158, 39938), (158, 41134)},\n",
              "       {(36147, 50477), (15309, 50477), (15309, 36147)},\n",
              "       {(9194, 23808), (4975, 23808), (4975, 9194)},\n",
              "       {(23020, 35492), (35492, 42331), (23020, 42331)},\n",
              "       {(227, 45936), (5881, 45936), (227, 5881)},\n",
              "       {(3914, 23780), (3914, 11633), (11633, 23780)},\n",
              "       {(38341, 39174), (24125, 38341), (24125, 39174)},\n",
              "       {(4642, 6716), (4642, 16862), (6716, 16862)},\n",
              "       {(37173, 48228), (25211, 48228), (25211, 37173)},\n",
              "       {(8725, 37140), (37140, 58843), (8725, 58843)},\n",
              "       {(3132, 34171), (3132, 16140), (16140, 34171)},\n",
              "       {(13041, 52368), (2423, 52368), (2423, 13041)},\n",
              "       {(15069, 42794), (32776, 42794), (15069, 32776)},\n",
              "       {(33304, 38465), (23903, 33304), (23903, 38465)},\n",
              "       {(39954, 48850), (10250, 39954), (10250, 48850)},\n",
              "       {(14627, 28952), (14627, 17471), (17471, 28952)},\n",
              "       {(8196, 15173), (8196, 30091), (15173, 30091)},\n",
              "       {(18157, 50057), (18157, 44551), (44551, 50057)},\n",
              "       {(10292, 12970), (10292, 29201), (12970, 29201)},\n",
              "       {(17701, 42271), (3551, 17701), (3551, 42271)},\n",
              "       {(6826, 46312), (6826, 34360), (34360, 46312)},\n",
              "       {(28433, 30170), (17103, 30170), (17103, 28433)},\n",
              "       {(1628, 17122), (17122, 47390), (1628, 47390)},\n",
              "       {(21950, 43565), (37093, 43565), (21950, 37093)},\n",
              "       {(38721, 45114), (7927, 45114), (7927, 38721)},\n",
              "       {(24006, 24201), (16180, 24201), (16180, 24006)}], dtype=object)"
            ]
          },
          "metadata": {}
        }
      ],
      "execution_count": 15,
      "metadata": {}
    },
    {
      "cell_type": "code",
      "source": [
        "def triplet_from_edge(edge):\n",
        "    all_ids = tuple({clip_id for node in edge for clip_id in node})\n",
        "    odd_one_out_id = np.intersect1d(edge[0], edge[1])\n",
        "    similar_pair = np.setdiff1d(all_ids, odd_one_out_id)\n",
        "    return similar_pair, odd_one_out_id"
      ],
      "outputs": [],
      "execution_count": 18,
      "metadata": {}
    },
    {
      "cell_type": "code",
      "source": [
        "(a, b), odd_one_out = triplet_from_edge(((6959, 19598), (19598, 53758)))\n",
        "# a, b = similar_pair\n",
        "b"
      ],
      "outputs": [
        {
          "output_type": "execute_result",
          "execution_count": 22,
          "data": {
            "text/plain": [
              "53758"
            ]
          },
          "metadata": {}
        }
      ],
      "execution_count": 22,
      "metadata": {}
    },
    {
      "cell_type": "code",
      "source": [
        "[triplet_from_edge(edge) for edge in split_edges(splits[0])]"
      ],
      "outputs": [
        {
          "output_type": "execute_result",
          "execution_count": 177,
          "data": {
            "text/plain": [
              "[(array([21950, 37093]), array([43565])),\n",
              " (array([21950, 43565]), array([37093])),\n",
              " (array([37093, 43565]), array([21950])),\n",
              " (array([ 9938, 20536]), array([46254])),\n",
              " (array([20536, 46254]), array([9938])),\n",
              " (array([ 4316, 46294]), array([9356])),\n",
              " (array([ 9356, 46294]), array([4316])),\n",
              " (array([ 6848, 10757]), array([29305])),\n",
              " (array([10757, 29305]), array([6848])),\n",
              " (array([ 6848, 29305]), array([10757])),\n",
              " (array([ 2139, 49609]), array([45535])),\n",
              " (array([ 2139, 45535]), array([49609])),\n",
              " (array([ 7035, 43358]), array([18230])),\n",
              " (array([18230, 43358]), array([7035])),\n",
              " (array([ 7035, 18230]), array([43358])),\n",
              " (array([ 3450, 42896]), array([48198])),\n",
              " (array([ 3450, 48198]), array([42896])),\n",
              " (array([42896, 48198]), array([3450])),\n",
              " (array([21334, 38057]), array([50779])),\n",
              " (array([21334, 50779]), array([38057])),\n",
              " (array([36572, 43201]), array([52271])),\n",
              " (array([43201, 52271]), array([36572])),\n",
              " (array([36572, 52271]), array([43201])),\n",
              " (array([18221, 58717]), array([37812])),\n",
              " (array([37812, 58717]), array([18221])),\n",
              " (array([18221, 37812]), array([58717])),\n",
              " (array([  158, 41134]), array([39938])),\n",
              " (array([39938, 41134]), array([158])),\n",
              " (array([ 9147, 21109]), array([39376])),\n",
              " (array([21109, 39376]), array([9147])),\n",
              " (array([ 9147, 39376]), array([21109])),\n",
              " (array([21471, 35019]), array([3381])),\n",
              " (array([ 3381, 35019]), array([21471])),\n",
              " (array([ 3381, 21471]), array([35019])),\n",
              " (array([39434, 53909]), array([43074])),\n",
              " (array([39434, 43074]), array([53909])),\n",
              " (array([43074, 53909]), array([39434])),\n",
              " (array([ 5421, 15930]), array([46279])),\n",
              " (array([ 5421, 46279]), array([15930])),\n",
              " (array([15930, 46279]), array([5421])),\n",
              " (array([ 2578, 52175]), array([54627])),\n",
              " (array([ 2578, 54627]), array([52175])),\n",
              " (array([52175, 54627]), array([2578])),\n",
              " (array([11075, 11839]), array([2626])),\n",
              " (array([ 2626, 11075]), array([11839])),\n",
              " (array([ 2626, 11839]), array([11075])),\n",
              " (array([15645, 46011]), array([20072])),\n",
              " (array([20072, 46011]), array([15645])),\n",
              " (array([15645, 20072]), array([46011])),\n",
              " (array([46403, 54000]), array([23729])),\n",
              " (array([23729, 54000]), array([46403])),\n",
              " (array([11300, 27211]), array([1987])),\n",
              " (array([ 1987, 27211]), array([11300])),\n",
              " (array([ 1987, 11300]), array([27211])),\n",
              " (array([ 1129, 33781]), array([47104])),\n",
              " (array([ 1129, 47104]), array([33781])),\n",
              " (array([ 5396, 43509]), array([19374])),\n",
              " (array([19374, 43509]), array([5396])),\n",
              " (array([ 5396, 19374]), array([43509])),\n",
              " (array([ 5987, 18512]), array([12292])),\n",
              " (array([ 5987, 12292]), array([18512])),\n",
              " (array([13286, 28835]), array([17708])),\n",
              " (array([17708, 28835]), array([13286])),\n",
              " (array([27507, 33920]), array([41961])),\n",
              " (array([33920, 41961]), array([27507])),\n",
              " (array([ 2486, 56693]), array([4071])),\n",
              " (array([2486, 4071]), array([56693])),\n",
              " (array([ 4071, 56693]), array([2486])),\n",
              " (array([ 4642, 16862]), array([6716])),\n",
              " (array([4642, 6716]), array([16862])),\n",
              " (array([34380, 48043]), array([36352])),\n",
              " (array([34380, 36352]), array([48043])),\n",
              " (array([ 8767, 45934]), array([35229])),\n",
              " (array([35229, 45934]), array([8767])),\n",
              " (array([ 3574, 36474]), array([50949])),\n",
              " (array([36474, 50949]), array([3574])),\n",
              " (array([28433, 30170]), array([17103])),\n",
              " (array([17103, 30170]), array([28433])),\n",
              " (array([ 2634, 52226]), array([58285])),\n",
              " (array([ 2634, 58285]), array([52226])),\n",
              " (array([52226, 58285]), array([2634])),\n",
              " (array([ 4296, 47939]), array([52433])),\n",
              " (array([47939, 52433]), array([4296])),\n",
              " (array([ 4296, 52433]), array([47939])),\n",
              " (array([15309, 50477]), array([36147])),\n",
              " (array([36147, 50477]), array([15309]))]"
            ]
          },
          "metadata": {}
        }
      ],
      "execution_count": 177,
      "metadata": {}
    },
    {
      "cell_type": "code",
      "source": [],
      "outputs": [],
      "execution_count": null,
      "metadata": {}
    }
  ],
  "metadata": {
    "kernelspec": {
      "name": "python3",
      "language": "python",
      "display_name": "Python 3"
    },
    "language_info": {
      "name": "python",
      "version": "3.7.3",
      "mimetype": "text/x-python",
      "codemirror_mode": {
        "name": "ipython",
        "version": 3
      },
      "pygments_lexer": "ipython3",
      "nbconvert_exporter": "python",
      "file_extension": ".py"
    },
    "toc": {
      "toc_position": {
        "height": "189.5px",
        "left": "4px",
        "right": "20px",
        "top": "124px",
        "width": "62px"
      },
      "number_sections": false,
      "toc_window_display": true,
      "threshold": 4,
      "navigate_menu": true,
      "colors": {
        "hover_highlight": "#DAA520",
        "running_highlight": "#FF0000",
        "selected_highlight": "#FFD700"
      },
      "toc_section_display": "block",
      "moveMenuLeft": true,
      "toc_cell": false,
      "nav_menu": {
        "height": "12px",
        "width": "252px"
      },
      "sideBar": false
    },
    "kernel_info": {
      "name": "python3"
    },
    "nteract": {
      "version": "0.15.0"
    }
  },
  "nbformat": 4,
  "nbformat_minor": 2
}