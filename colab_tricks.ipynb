{
  "nbformat": 4,
  "nbformat_minor": 0,
  "metadata": {
    "colab": {
      "name": "deep_kick_snare_classifier.ipynb",
      "provenance": [],
      "collapsed_sections": [
        "aQxcCjzOuuH-"
      ],
      "include_colab_link": true
    },
    "kernelspec": {
      "name": "python3",
      "display_name": "Python 3"
    },
    "accelerator": "GPU"
  },
  "cells": [
    {
      "cell_type": "markdown",
      "metadata": {
        "id": "view-in-github",
        "colab_type": "text"
      },
      "source": [
        "<a href=\"https://colab.research.google.com/github/alexanderkeijser73/music_metriclearning/blob/master/colab_tricks.ipynb\" target=\"_parent\"><img src=\"https://colab.research.google.com/assets/colab-badge.svg\" alt=\"Open In Colab\"/></a>"
      ]
    },
    {
      "cell_type": "markdown",
      "metadata": {
        "id": "lMmq37cLa60u",
        "colab_type": "text"
      },
      "source": [
        "# Introduction to Colab & TensorFlow\n",
        "## A Kick Snare Classifier\n",
        "\n",
        "This notebook introduces basic things you need to know when using Colab for training neural networks.\n",
        "\n",
        "You will learn how to \n",
        "1.   Make sure you have a GPU\n",
        "2.   Interact with Google Drive\n",
        "3.   Pre-process audio files\n",
        "4.   Use TensorFlow & Keras to build a simple classifier\n",
        "5.   Trick to avoid Colab disconnections\n",
        "\n",
        "---"
      ]
    },
    {
      "cell_type": "markdown",
      "metadata": {
        "id": "8ckv-PReb8Wk",
        "colab_type": "text"
      },
      "source": [
        "# 1. Make sure you have a GPU and that it is not used\n",
        "You will need to select GPU in this menu:\n",
        "\n",
        "`Runtime > change runtime type > Hardware accelerator > GPU`\n",
        "\n",
        "\n",
        "Then we check that we have been assigned a GPU, and that no one else is using it. You should see something like: \n",
        "\n",
        "```\n",
        "Gen RAM Free: 12.7 GB  | Proc size: 156.8 MB\n",
        "GPU RAM Free: 16280MB | Used: 0MB | Util   0% | Total 16280MB\n",
        "```\n",
        "\n",
        "If you see that Util is more than 0%, it means you are sharing the GPU with another user. Restart your runtime...\n",
        "\n"
      ]
    },
    {
      "cell_type": "code",
      "metadata": {
        "id": "H0ut6tV3A1QI",
        "colab_type": "code",
        "colab": {}
      },
      "source": [
        "# we use %%capture for supressing the output of this cell\n",
        "%%capture\n",
        "\n",
        "# memory footprint support libraries/code\n",
        "!ln -sf /opt/bin/nvidia-smi /usr/bin/nvidia-smi\n",
        "!pip install gputil\n",
        "!pip install psutil\n",
        "!pip install humanize"
      ],
      "execution_count": 0,
      "outputs": []
    },
    {
      "cell_type": "code",
      "metadata": {
        "id": "N7tvxIrlkV5s",
        "colab_type": "code",
        "outputId": "a96673df-bb64-4aea-8c3d-1efd5f37c97d",
        "colab": {
          "base_uri": "https://localhost:8080/",
          "height": 51
        }
      },
      "source": [
        "import psutil\n",
        "import humanize\n",
        "import os\n",
        "import GPUtil as GPU\n",
        "\n",
        "\n",
        "def printm():\n",
        "    GPUs = GPU.getGPUs()\n",
        "    # XXX: only one GPU on Colab and isn’t guaranteed\n",
        "    gpu = GPUs[0]\n",
        "    process = psutil.Process(os.getpid())\n",
        "    print(\"Gen RAM Free: \" + humanize.naturalsize( psutil.virtual_memory().available ), \" | Proc size: \" + humanize.naturalsize( process.memory_info().rss))\n",
        "    print(\"GPU RAM Free: {0:.0f}MB | Used: {1:.0f}MB | Util {2:3.0f}% | Total {3:.0f}MB\".format(gpu.memoryFree, gpu.memoryUsed, gpu.memoryUtil*100, gpu.memoryTotal))\n",
        "printm() "
      ],
      "execution_count": 0,
      "outputs": [
        {
          "output_type": "stream",
          "text": [
            "Gen RAM Free: 12.8 GB  | Proc size: 156.8 MB\n",
            "GPU RAM Free: 16280MB | Used: 0MB | Util   0% | Total 16280MB\n"
          ],
          "name": "stdout"
        }
      ]
    },
    {
      "cell_type": "markdown",
      "metadata": {
        "id": "gZT5MUUHc7Sd",
        "colab_type": "text"
      },
      "source": [
        "# 2. Interact with Google Drive \n",
        "## Mount Google Drive folder\n",
        "Now we are going to mount our Google Drive folder.\n",
        "Run the next cell and follow the procedure.\n"
      ]
    },
    {
      "cell_type": "code",
      "metadata": {
        "id": "Z76y2P-wET66",
        "colab_type": "code",
        "outputId": "3b55266f-d252-4c5e-c131-86fabd778cb8",
        "colab": {
          "base_uri": "https://localhost:8080/",
          "height": 122
        }
      },
      "source": [
        "from google.colab import drive\n",
        "drive.mount('/content/gdrive')"
      ],
      "execution_count": 0,
      "outputs": [
        {
          "output_type": "stream",
          "text": [
            "Go to this URL in a browser: https://accounts.google.com/o/oauth2/auth?client_id=947318989803-6bn6qk8qdgf4n4g3pfee6491hc0brc4i.apps.googleusercontent.com&redirect_uri=urn%3aietf%3awg%3aoauth%3a2.0%3aoob&response_type=code&scope=email%20https%3a%2f%2fwww.googleapis.com%2fauth%2fdocs.test%20https%3a%2f%2fwww.googleapis.com%2fauth%2fdrive%20https%3a%2f%2fwww.googleapis.com%2fauth%2fdrive.photos.readonly%20https%3a%2f%2fwww.googleapis.com%2fauth%2fpeopleapi.readonly\n",
            "\n",
            "Enter your authorization code:\n",
            "··········\n",
            "Mounted at /content/gdrive\n"
          ],
          "name": "stdout"
        }
      ]
    },
    {
      "cell_type": "markdown",
      "metadata": {
        "id": "w7pjhJRykDe7",
        "colab_type": "text"
      },
      "source": [
        "Notice we use `%cd` instead of `!cd`. Read more about it [here](https://stackoverflow.com/questions/36512527/cd-vs-cd-vs-cd-in-ipython)."
      ]
    },
    {
      "cell_type": "code",
      "metadata": {
        "id": "F9Bn9QV7Eyxx",
        "colab_type": "code",
        "outputId": "5b423049-e8c6-4be6-b65e-3cf7d3b50f61",
        "colab": {
          "base_uri": "https://localhost:8080/",
          "height": 85
        }
      },
      "source": [
        "%cd '/content/gdrive/My Drive/SMC_Colab_Intro/'\n",
        "!ls "
      ],
      "execution_count": 0,
      "outputs": [
        {
          "output_type": "stream",
          "text": [
            "/content/gdrive/My Drive/SMC_Colab_Intro\n",
            " checkpoints\t\t\t    kick_snare_dataset.json   sounds\n",
            " deep_kick_snare_classifier.ipynb   labels.npy\t\t      specs.npy\n",
            "'HPC ressources slides.gslides'     SMC_Colab_Intro.zip\n"
          ],
          "name": "stdout"
        }
      ]
    },
    {
      "cell_type": "markdown",
      "metadata": {
        "id": "nZ7w-i3PdXZg",
        "colab_type": "text"
      },
      "source": [
        "# 3. Pre-process audio files\n",
        "For this session, we created a small dataset of 2500 snare and kick samples from Freesound.\n",
        "In the following, we define some utilitary functions, and will start pre-processing the audio files."
      ]
    },
    {
      "cell_type": "code",
      "metadata": {
        "id": "AHhF88KBnbRX",
        "colab_type": "code",
        "colab": {}
      },
      "source": [
        "%%capture\n",
        "!pip install essentia"
      ],
      "execution_count": 0,
      "outputs": []
    },
    {
      "cell_type": "code",
      "metadata": {
        "id": "widgiKH-FXnh",
        "colab_type": "code",
        "colab": {}
      },
      "source": [
        "import os\n",
        "sound_files = os.listdir('./sounds/')"
      ],
      "execution_count": 0,
      "outputs": []
    },
    {
      "cell_type": "code",
      "metadata": {
        "id": "WAQoBbu_FnCv",
        "colab_type": "code",
        "colab": {}
      },
      "source": [
        "import sys\n",
        "import numpy as np\n",
        "import essentia.standard as es\n",
        "from essentia import Pool\n",
        "import matplotlib.pyplot as plt\n",
        "\n",
        "\n",
        "def pad(l, sr):\n",
        "    # 0-Pad 1 sec at fs hz and add little noise\n",
        "    z = np.zeros(sr, dtype='float32')\n",
        "    z[:l.size] = l\n",
        "    z = z + 5*1e-4*np.random.rand(z.size).astype('float32')\n",
        "    return z\n",
        "\n",
        "\n",
        "def compute_spectrogram(filename, sr=16000, n_mels=32):\n",
        "    # compute log mel magnitude spectrogram \n",
        "    audio = es.MonoLoader(filename=filename,sampleRate=sr)()\n",
        "    audio = pad(audio, sr)\n",
        "\n",
        "    # old code using librosa\n",
        "    # audio_rep = librosa.feature.melspectrogram(y=x, sr=sr, hop_length=512, n_fft=1024, n_mels=n_mels, power=1.)\n",
        "    # audio_rep = np.log(audio_rep + np.finfo(np.float32).eps)\n",
        "    \n",
        "    # essentia extractor\n",
        "    windowing = es.Windowing(type='hann', normalized=False, zeroPadding=0)\n",
        "    spectrum = es.Spectrum()\n",
        "    melbands = es.MelBands(numberBands=n_mels, \n",
        "                           sampleRate=sr, \n",
        "                           lowFrequencyBound=0, \n",
        "                           highFrequencyBound=8000, \n",
        "                           inputSize=(2048)//2+1, \n",
        "                           weighting='linear', \n",
        "                           normalize='unit_tri', \n",
        "                           warpingFormula='slaneyMel', \n",
        "                           type='power')\n",
        "    \n",
        "    norm10k = es.UnaryOperator(type='identity', shift=0, scale=1)\n",
        "    log10 = es.UnaryOperator(type='log10')\n",
        "    results = Pool()\n",
        "\n",
        "    for frame in es.FrameGenerator(audio, frameSize=1024, hopSize=512, startFromZero=False):\n",
        "        spectrumFrame = spectrum(windowing(frame))     \n",
        "        results.add('melbands', log10(norm10k(melbands(spectrumFrame))))\n",
        "    \n",
        "    mel_log_spectrum = results['melbands']\n",
        "    return mel_log_spectrum[:32].T\n",
        "\n",
        "\n",
        "class ProgressBar:\n",
        "    \"\"\"Progress bar\n",
        "    \n",
        "    \"\"\"\n",
        "    def __init__ (self, valmax, maxbar, title):\n",
        "        if valmax == 0:  valmax = 1\n",
        "        if maxbar > 200: maxbar = 200\n",
        "        self.valmax = valmax\n",
        "        self.maxbar = maxbar\n",
        "        self.title  = title\n",
        "        print ('')\n",
        "\n",
        "    def update(self, val, avg_loss=0):\n",
        "        # format\n",
        "        if val > self.valmax: val = self.valmax\n",
        "\n",
        "        # process\n",
        "        perc  = round((float(val) / float(self.valmax)) * 100)\n",
        "        scale = 100.0 / float(self.maxbar)\n",
        "        bar   = int(perc / scale)\n",
        "\n",
        "        # render\n",
        "        if avg_loss:\n",
        "            out = '\\r %20s [%s%s] %3d / %3d  loss: %.5f' % (\n",
        "                self.title, \n",
        "                '=' * bar, ' ' * (self.maxbar - bar), \n",
        "                val, \n",
        "                self.valmax, \n",
        "                avg_loss, \n",
        "                )\n",
        "        else:\n",
        "            out = '\\r %20s [%s%s] %3d / %3d ' % (self.title, '=' * bar, ' ' * (self.maxbar - bar), val, self.valmax)\n",
        "\n",
        "        sys.stdout.write(out)\n",
        "        sys.stdout.flush()"
      ],
      "execution_count": 0,
      "outputs": []
    },
    {
      "cell_type": "code",
      "metadata": {
        "id": "Sv-bu-KIF5Ih",
        "colab_type": "code",
        "outputId": "be300ceb-52c2-4056-8c36-50af5596b1cd",
        "colab": {
          "base_uri": "https://localhost:8080/",
          "height": 371
        }
      },
      "source": [
        "import librosa.display\n",
        "from IPython.display import Audio\n",
        "\n",
        "\n",
        "sound = sound_files[100]\n",
        "\n",
        "x = compute_spectrogram('./sounds/{}'.format(sound))\n",
        "print(x.shape)\n",
        "librosa.display.specshow(x, sr=16000, x_axis='time', y_axis='mel')\n",
        "\n",
        "print(sound)\n",
        "Audio('./sounds/{}'.format(sound))"
      ],
      "execution_count": 0,
      "outputs": [
        {
          "output_type": "stream",
          "text": [
            "(32, 32)\n",
            "142506.wav\n"
          ],
          "name": "stdout"
        },
        {
          "output_type": "execute_result",
          "data": {
            "text/html": [
              "\n",
              "                <audio controls=\"controls\" >\n",
              "                    <source src=\"data:audio/x-wav;base64,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\" type=\"audio/x-wav\" />\n",
              "                    Your browser does not support the audio element.\n",
              "                </audio>\n",
              "              "
            ],
            "text/plain": [
              "<IPython.lib.display.Audio object>"
            ]
          },
          "metadata": {
            "tags": []
          },
          "execution_count": 17
        },
        {
          "output_type": "display_data",
          "data": {
            "image/png": "[encoded data removed]",
            "text/plain": [
              "<Figure size 432x288 with 1 Axes>"
            ]
          },
          "metadata": {
            "tags": []
          }
        }
      ]
    },
    {
      "cell_type": "markdown",
      "metadata": {
        "id": "NTVthtTJd3RX",
        "colab_type": "text"
      },
      "source": [
        "We already computed the spectrograms and stored them in a Google drive folder.\n",
        "This process can take time in Colab, because of slow CPU and slow data loading from the drive. You could also compute these spectrograms localy on your computer and then upload a file to Google Drive."
      ]
    },
    {
      "cell_type": "code",
      "metadata": {
        "id": "73Bp45-8A1xo",
        "colab_type": "code",
        "colab": {}
      },
      "source": [
        "import json\n",
        "\n",
        "\n",
        "if False:\n",
        "    dataset = json.load(open('./kick_snare_dataset.json', 'rb'))\n",
        "    specs = np.zeros((2500, 32, 32))\n",
        "    labels = np.zeros((2500, 2))\n",
        "\n",
        "    progress_bar = ProgressBar(len(sound_files), 20, 'Computing spec...')\n",
        "    progress_bar.update(0)\n",
        "\n",
        "    for idx, file in enumerate(sound_files):\n",
        "        progress_bar.update(idx+1)\n",
        "\n",
        "        specs[idx] = compute_spectrogram('./sounds/{}'.format(file))\n",
        "        labels[idx] = [1,0] if dataset[file.split('.')[0]] == 'kick' else [0,1]\n",
        "\n",
        "    np.save('./specs.npy', specs)\n",
        "    np.save('./labels.npy', labels)"
      ],
      "execution_count": 0,
      "outputs": []
    },
    {
      "cell_type": "markdown",
      "metadata": {
        "id": "TdAPcyv5e650",
        "colab_type": "text"
      },
      "source": [
        "# 4. Use TensorFlow & Keras to build a simple classifier\n",
        "\n",
        "Here we will use tensorflow to train neural networks to classify audio samples.\n",
        "\n",
        "We first make sure that our GPU calculates faster than the CPU..."
      ]
    },
    {
      "cell_type": "code",
      "metadata": {
        "id": "6N22pAln_kPJ",
        "colab_type": "code",
        "outputId": "b3003695-2e3b-41dc-b6e4-55bfc348523f",
        "colab": {
          "base_uri": "https://localhost:8080/",
          "height": 156
        }
      },
      "source": [
        "%tensorflow_version 2.x\n",
        "import tensorflow as tf\n",
        "import timeit\n",
        "\n",
        "\n",
        "device_name = tf.test.gpu_device_name()\n",
        "if device_name != '/device:GPU:0':\n",
        "  print(\n",
        "      '\\n\\nThis error most likely means that this notebook is not '\n",
        "      'configured to use a GPU.  Change this in Notebook Settings via the '\n",
        "      'command palette (cmd/ctrl-shift-P) or the Edit menu.\\n\\n')\n",
        "  raise SystemError('GPU device not found')\n",
        "\n",
        "def cpu():\n",
        "  with tf.device('/cpu:0'):\n",
        "    random_image_cpu = tf.random.normal((100, 100, 100, 3))\n",
        "    net_cpu = tf.keras.layers.Conv2D(32, 7)(random_image_cpu)\n",
        "    return tf.math.reduce_sum(net_cpu)\n",
        "\n",
        "def gpu():\n",
        "  with tf.device('/device:GPU:0'):\n",
        "    random_image_gpu = tf.random.normal((100, 100, 100, 3))\n",
        "    net_gpu = tf.keras.layers.Conv2D(32, 7)(random_image_gpu)\n",
        "    return tf.math.reduce_sum(net_gpu)\n",
        "  \n",
        "# We run each op once to warm up; see: https://stackoverflow.com/a/45067900\n",
        "cpu()\n",
        "gpu()\n",
        "\n",
        "# Run the op several times.\n",
        "print('Time (s) to convolve 32x7x7x3 filter over random 100x100x100x3 images '\n",
        "      '(batch x height x width x channel). Sum of ten runs.')\n",
        "print('CPU (s):')\n",
        "cpu_time = timeit.timeit('cpu()', number=10, setup=\"from __main__ import cpu\")\n",
        "print(cpu_time)\n",
        "print('GPU (s):')\n",
        "gpu_time = timeit.timeit('gpu()', number=10, setup=\"from __main__ import gpu\")\n",
        "print(gpu_time)\n",
        "print('GPU speedup over CPU: {}x'.format(int(cpu_time/gpu_time)))"
      ],
      "execution_count": 0,
      "outputs": [
        {
          "output_type": "stream",
          "text": [
            "TensorFlow 2.x selected.\n",
            "Time (s) to convolve 32x7x7x3 filter over random 100x100x100x3 images (batch x height x width x channel). Sum of ten runs.\n",
            "CPU (s):\n",
            "3.3239870499999142\n",
            "GPU (s):\n",
            "0.05171182799995222\n",
            "GPU speedup over CPU: 64x\n"
          ],
          "name": "stdout"
        }
      ]
    },
    {
      "cell_type": "markdown",
      "metadata": {
        "id": "aQxcCjzOuuH-",
        "colab_type": "text"
      },
      "source": [
        "### Class and function for plots"
      ]
    },
    {
      "cell_type": "code",
      "metadata": {
        "id": "zY_9d1uyuzPX",
        "colab_type": "code",
        "colab": {}
      },
      "source": [
        "%matplotlib inline\n",
        "from IPython.display import clear_output\n",
        "\n",
        "\n",
        "class TrainingPlot(tf.keras.callbacks.Callback):\n",
        "    \n",
        "    # This function is called when the training begins\n",
        "    def on_train_begin(self, logs={}):\n",
        "        # Initialize the lists for holding the logs, losses and accuracies\n",
        "        self.losses = []\n",
        "        self.acc = []\n",
        "        self.val_losses = []\n",
        "        self.val_acc = []\n",
        "        self.logs = []\n",
        "    \n",
        "    # This function is called at the end of each epoch\n",
        "    def on_epoch_end(self, epoch, logs={}):\n",
        "        \n",
        "        # Append the logs, losses and accuracies to the lists\n",
        "        self.logs.append(logs)\n",
        "        self.losses.append(logs.get('loss'))\n",
        "        #self.acc.append(logs.get('accuracy'))\n",
        "        self.val_losses.append(logs.get('val_loss'))\n",
        "        #self.val_acc.append(logs.get('val_accuracy'))\n",
        "        \n",
        "        # Before plotting ensure at least 2 epochs have passed\n",
        "        if len(self.losses) > 1:\n",
        "            \n",
        "            # Clear the previous plot\n",
        "            clear_output(wait=True)\n",
        "            N = np.arange(0, len(self.losses))\n",
        "            \n",
        "            # You can chose the style of your preference\n",
        "            # print(plt.style.available) to see the available options\n",
        "            plt.style.use(\"seaborn\")\n",
        "            \n",
        "            # Plot train loss, train acc, val loss and val acc against epochs passed\n",
        "            plt.figure()\n",
        "            plt.plot(N, self.losses, label = \"train_loss\")\n",
        "            #plt.plot(N, self.acc, label = \"train_acc\")\n",
        "            plt.plot(N, self.val_losses, label = \"val_loss\")\n",
        "            #plt.plot(N, self.val_acc, label = \"val_acc\")\n",
        "            plt.title(\"Training Loss and Accuracy [Epoch {}]\".format(epoch))\n",
        "            plt.xlabel(\"Epoch #\")\n",
        "            plt.ylabel(\"Loss/Accuracy\")\n",
        "            plt.legend()\n",
        "            plt.show()\n",
        "\n",
        "plot_losses = TrainingPlot()"
      ],
      "execution_count": 0,
      "outputs": []
    },
    {
      "cell_type": "markdown",
      "metadata": {
        "id": "oQ7AMoXnfaJW",
        "colab_type": "text"
      },
      "source": [
        "## Define and train model\n",
        "\n",
        "Note that in this notebook when we compute the spectrograms and train our models, we keep all the data in memory. This approach will not work with large dataset that cannot fit into memory. You will have to implement a different logic for loading the data. With Keras you can have a look at some examples that use the `fit_generator()` method for training the model (e.g. [here](https://mc.ai/train-keras-model-with-large-dataset-batch-training/))."
      ]
    },
    {
      "cell_type": "code",
      "metadata": {
        "colab_type": "code",
        "id": "mpzhOTN9IOYN",
        "outputId": "0712fdb7-73bf-4df2-808e-2a25b2215983",
        "colab": {
          "base_uri": "https://localhost:8080/",
          "height": 430
        }
      },
      "source": [
        "!mkdir './checkpoints'\n",
        "import json\n",
        "\n",
        "\n",
        "specs = np.load('./specs.npy')\n",
        "labels = np.load('./labels.npy')\n",
        "\n",
        "specs = specs.reshape(-1, 32, 32, 1)\n",
        "specs = (specs - np.mean(specs)) / np.std(specs)\n",
        "\n",
        "train_labels = labels[:2000].reshape(-1, 2)\n",
        "test_labels = labels[2000:].reshape(-1, 2)\n",
        "\n",
        "train_specs = specs[:2000]\n",
        "test_specs = specs[2000:]\n",
        "\n",
        "\n",
        "def create_vgg_model():\n",
        "    model = tf.keras.models.Sequential([\n",
        "        tf.keras.layers.Conv2D(16, kernel_size=3, activation='relu', input_shape=(32,32,1)),\n",
        "        tf.keras.layers.MaxPooling2D(pool_size=(2,2), strides=(2,2)),\n",
        "        tf.keras.layers.Conv2D(16, kernel_size=3, activation='relu'),\n",
        "        tf.keras.layers.MaxPooling2D(pool_size=(2,2), strides=(2,2)),\n",
        "        tf.keras.layers.Conv2D(16, kernel_size=3, activation='relu'),\n",
        "        tf.keras.layers.MaxPooling2D(pool_size=(2,2), strides=(2,2)),\n",
        "        tf.keras.layers.Flatten(),\n",
        "        tf.keras.layers.Dense(32, activation='relu'),\n",
        "        tf.keras.layers.Dense(2, activation='softmax')\n",
        "    ])\n",
        "\n",
        "    model.compile(optimizer='adam',\n",
        "                  loss='categorical_crossentropy',\n",
        "                  metrics=['accuracy'])\n",
        "    \n",
        "    return model\n",
        "\n",
        "\n",
        "def create_simple_model():\n",
        "    model = tf.keras.models.Sequential([\n",
        "        tf.keras.layers.Conv2D(2, kernel_size=32, activation='relu', input_shape=(32,32,1), name='conv2D'),\n",
        "        tf.keras.layers.Flatten(),\n",
        "        tf.keras.layers.Dense(2, activation='softmax')\n",
        "    ])\n",
        "\n",
        "    model.compile(optimizer='adam',\n",
        "                loss='categorical_crossentropy',\n",
        "                metrics=['accuracy'])\n",
        "\n",
        "    return model\n",
        "\n",
        "\n",
        "# Create a basic model instance\n",
        "#model = create_vgg_model()\n",
        "model = create_simple_model()\n",
        "\n",
        "# Display the model's architecture\n",
        "model.summary()\n",
        "\n",
        "# Create a callback that saves the model's weights\n",
        "checkpoint_path = \"./checkpoints/cp.ckpt\"\n",
        "checkpoint_dir = os.path.dirname(checkpoint_path)\n",
        "cp_callback = tf.keras.callbacks.ModelCheckpoint(filepath=checkpoint_path,\n",
        "                                                 save_weights_only=True,\n",
        "                                                 verbose=1)\n",
        "\n",
        "# Train the model with the new callback\n",
        "model.fit(train_specs, \n",
        "          train_labels,  \n",
        "          epochs=10,\n",
        "          validation_data=(test_specs,test_labels),\n",
        "          callbacks=[plot_losses])  # Pass cp_callback here for saving checkpoints"
      ],
      "execution_count": 0,
      "outputs": [
        {
          "output_type": "display_data",
          "data": {
            "image/png": "[encoded data removed]",
            "text/plain": [
              "<Figure size 576x396 with 1 Axes>"
            ]
          },
          "metadata": {
            "tags": []
          }
        },
        {
          "output_type": "stream",
          "text": [
            "\b\b\b\b\b\b\b\b\b\b\b\b\b\b\b\b\b\b\b\b\b\b\b\b\b\b\b\b\b\b\b\b\b\b\b\b\b\b\b\b\b\b\b\b\b\b\b\b\b\b\b\b\b\b\b\b\b\b\b\b\b\b\b\b\b\b\b\b\b\b\b\b\b\b\b\b\b\b\b\b\b\b\b\b\b\b\r2000/2000 [==============================] - 0s 215us/sample - loss: 0.2024 - accuracy: 0.9730 - val_loss: 0.2091 - val_accuracy: 0.9580\n"
          ],
          "name": "stdout"
        },
        {
          "output_type": "execute_result",
          "data": {
            "text/plain": [
              "<tensorflow.python.keras.callbacks.History at 0x7fa82458e160>"
            ]
          },
          "metadata": {
            "tags": []
          },
          "execution_count": 27
        }
      ]
    },
    {
      "cell_type": "code",
      "metadata": {
        "id": "K2-XrU6g9pBH",
        "colab_type": "code",
        "outputId": "5ac569b5-33dd-4dc5-91b5-36c84754cdd7",
        "colab": {
          "base_uri": "https://localhost:8080/",
          "height": 454
        }
      },
      "source": [
        "# Visualise the learned filters for the simple model\n",
        "import matplotlib.pyplot as plt\n",
        "plt.style.use('seaborn-ticks')\n",
        "\n",
        "\n",
        "params = {\n",
        "    'origin': 'lower',\n",
        "    'interpolation': 'nearest',\n",
        "    'cmap': 'viridis',\n",
        "}\n",
        "\n",
        "conv_weights = model.get_layer(name='conv2D').get_weights()[0].reshape(2,32,32)\n",
        "filter1 = conv_weights[0]\n",
        "filter2 = conv_weights[1]\n",
        "\n",
        "fig, (ax1, ax2) = plt.subplots(1, 2, figsize=(15,15))\n",
        "\n",
        "im1 = ax1.imshow(filter1, **params)\n",
        "ax1.set_title(\"Filter #1\")\n",
        "fig.colorbar(im1, ax=ax1, fraction=0.046, pad=0.04)\n",
        "\n",
        "im2 = ax2.imshow(filter2, **params)\n",
        "ax2.set_title(\"Filter #2\")\n",
        "plt.colorbar(im2, ax=ax2, fraction=0.046, pad=0.04)\n",
        "\n"
      ],
      "execution_count": 0,
      "outputs": [
        {
          "output_type": "execute_result",
          "data": {
            "text/plain": [
              "<matplotlib.colorbar.Colorbar at 0x7fa824156cc0>"
            ]
          },
          "metadata": {
            "tags": []
          },
          "execution_count": 28
        },
        {
          "output_type": "display_data",
          "data": {
            "image/png": "[encoded data removed]",
            "text/plain": [
              "<Figure size 1080x1080 with 4 Axes>"
            ]
          },
          "metadata": {
            "tags": []
          }
        }
      ]
    },
    {
      "cell_type": "markdown",
      "metadata": {
        "id": "HDFTrBUjyayT",
        "colab_type": "text"
      },
      "source": [
        "# 5. Preventing disconnections\n",
        "Colab will disconect automatically if you don't interact with the browser.\n",
        "One solution to prevent these disconnections is to simulate clicks on the browser.\n",
        "To do so, open the inspector, go to the console, and type:\n",
        "\n",
        "```javascript\n",
        "function ClickConnect(){\n",
        "  console.log(\"Working\"); \n",
        "  document.querySelector(\"colab-toolbar-button#connect\").click() \n",
        "}\n",
        "setInterval(ClickConnect, 60000)\n",
        "```\n",
        "\n"
      ]
    }
  ]
}